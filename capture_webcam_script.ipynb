{
 "cells": [
  {
   "cell_type": "code",
   "execution_count": 1,
   "id": "382b0d02",
   "metadata": {},
   "outputs": [],
   "source": [
    "import cv2\n",
    "import os"
   ]
  },
  {
   "cell_type": "code",
   "execution_count": 2,
   "id": "448ea098",
   "metadata": {},
   "outputs": [
    {
     "name": "stderr",
     "output_type": "stream",
     "text": [
      "A subdirectory or file AAA already exists.\n"
     ]
    }
   ],
   "source": [
    "letter=\"A\"\n",
    "!mkdir={letter}"
   ]
  },
  {
   "cell_type": "code",
   "execution_count": 5,
   "id": "36a0af65",
   "metadata": {},
   "outputs": [],
   "source": [
    "cam = cv2.VideoCapture(0)\n",
    "\n",
    "path=\"{}\".format(letter)"
   ]
  },
  {
   "cell_type": "code",
   "execution_count": 6,
   "id": "768f4cf3",
   "metadata": {},
   "outputs": [
    {
     "name": "stdout",
     "output_type": "stream",
     "text": [
      "AAA\\pic_0.png written!\n",
      "AAA\\pic_1.png written!\n",
      "AAA\\pic_2.png written!\n",
      "AAA\\pic_3.png written!\n",
      "AAA\\pic_4.png written!\n",
      "AAA\\pic_5.png written!\n",
      "AAA\\pic_6.png written!\n",
      "AAA\\pic_7.png written!\n",
      "AAA\\pic_8.png written!\n",
      "AAA\\pic_9.png written!\n",
      "AAA\\pic_10.png written!\n",
      "AAA\\pic_11.png written!\n",
      "AAA\\pic_12.png written!\n",
      "Escape hit, closing...\n"
     ]
    }
   ],
   "source": [
    "img_counter = 0\n",
    "\n",
    "while True:\n",
    "    ret, frame = cam.read()\n",
    "    if not ret:\n",
    "        print(\"failed to grab frame\")\n",
    "        break\n",
    "        \n",
    "    height, width, channels = frame.shape\n",
    "    height, width = height // 10, width // 10\n",
    "\n",
    "    if height > width:\n",
    "        main_size = width\n",
    "    else:\n",
    "        main_size = height\n",
    "\n",
    "    square_box = [(width, width + 5*main_size), (height, height + 5*main_size)]\n",
    "    roi = frame[square_box[1][0] : square_box[1][1], square_box[0][0] : square_box[0][1]]\n",
    "    \n",
    "    cv2.imshow(\"Press space to grab picture, press Esc to exit\", roi)\n",
    "\n",
    "    k = cv2.waitKey(1)\n",
    "    if k%256 == 27:\n",
    "        # ESC pressed\n",
    "        print(\"Escape hit, closing...\")\n",
    "        break\n",
    "    elif k%256 == 32:\n",
    "        # SPACE pressed \n",
    "        img_name = os.path.join(path, 'pic_{}.png'.format(img_counter))\n",
    "        # resized = cv2.resize(frame, (300,300), interpolation = cv2.INTER_AREA)\n",
    "        cv2.imwrite(img_name, roi)\n",
    "        print(\"{} written!\".format(img_name))\n",
    "        img_counter += 1\n",
    "\n",
    "cam.release()\n",
    "cv2.destroyAllWindows()"
   ]
  },
  {
   "cell_type": "code",
   "execution_count": null,
   "id": "9941a0e9",
   "metadata": {},
   "outputs": [],
   "source": []
  }
 ],
 "metadata": {
  "kernelspec": {
   "display_name": "Python 3 (ipykernel)",
   "language": "python",
   "name": "python3"
  },
  "language_info": {
   "codemirror_mode": {
    "name": "ipython",
    "version": 3
   },
   "file_extension": ".py",
   "mimetype": "text/x-python",
   "name": "python",
   "nbconvert_exporter": "python",
   "pygments_lexer": "ipython3",
   "version": "3.9.12"
  }
 },
 "nbformat": 4,
 "nbformat_minor": 5
}
